{
    "cells": [
        {
            "cell_type": "code",
            "execution_count": null,
            "id": "a5700184",
            "metadata": {},
            "outputs": [
                {
                    "name": "stdout",
                    "output_type": "stream",
                    "text": "Dash is running on http://127.0.0.1:8050/\n\n * Serving Flask app \"__main__\" (lazy loading)\n * Environment: production\n   WARNING: This is a development server. Do not use it in a production deployment.\n   Use a production WSGI server instead.\n * Debug mode: off\n"
                },
                {
                    "name": "stderr",
                    "output_type": "stream",
                    "text": " * Running on http://127.0.0.1:8050/ (Press CTRL+C to quit)\n127.0.0.1 - - [14/Oct/2021 14:02:49] \"\u001b[37mGET / HTTP/1.1\u001b[0m\" 200 -\n127.0.0.1 - - [14/Oct/2021 14:02:49] \"\u001b[37mGET /_dash-layout HTTP/1.1\u001b[0m\" 200 -\n127.0.0.1 - - [14/Oct/2021 14:02:49] \"\u001b[37mGET /_dash-dependencies HTTP/1.1\u001b[0m\" 200 -\n127.0.0.1 - - [14/Oct/2021 14:02:49] \"\u001b[37mGET /_favicon.ico?v=1.21.0 HTTP/1.1\u001b[0m\" 200 -\n127.0.0.1 - - [14/Oct/2021 14:02:49] \"\u001b[37mGET /_dash-component-suites/dash_core_components/async-graph.js HTTP/1.1\u001b[0m\" 200 -\n127.0.0.1 - - [14/Oct/2021 14:02:49] \"\u001b[37mGET /_dash-component-suites/dash_core_components/async-dropdown.js HTTP/1.1\u001b[0m\" 200 -\n127.0.0.1 - - [14/Oct/2021 14:02:49] \"\u001b[37mGET /_dash-component-suites/dash_core_components/async-slider.js HTTP/1.1\u001b[0m\" 200 -\n127.0.0.1 - - [14/Oct/2021 14:02:50] \"\u001b[37mGET /_dash-component-suites/dash_core_components/async-plotlyjs.js HTTP/1.1\u001b[0m\" 200 -\n127.0.0.1 - - [14/Oct/2021 14:02:52] \"\u001b[37mPOST /_dash-update-component HTTP/1.1\u001b[0m\" 200 -\n127.0.0.1 - - [14/Oct/2021 14:02:52] \"\u001b[37mPOST /_dash-update-component HTTP/1.1\u001b[0m\" 200 -\n127.0.0.1 - - [14/Oct/2021 14:02:55] \"\u001b[37mPOST /_dash-update-component HTTP/1.1\u001b[0m\" 200 -\n127.0.0.1 - - [14/Oct/2021 14:02:59] \"\u001b[37mPOST /_dash-update-component HTTP/1.1\u001b[0m\" 200 -\n127.0.0.1 - - [14/Oct/2021 14:03:00] \"\u001b[37mPOST /_dash-update-component HTTP/1.1\u001b[0m\" 200 -\n127.0.0.1 - - [14/Oct/2021 14:03:03] \"\u001b[37mPOST /_dash-update-component HTTP/1.1\u001b[0m\" 200 -\n127.0.0.1 - - [14/Oct/2021 14:03:05] \"\u001b[37mPOST /_dash-update-component HTTP/1.1\u001b[0m\" 200 -\n127.0.0.1 - - [14/Oct/2021 14:03:08] \"\u001b[37mPOST /_dash-update-component HTTP/1.1\u001b[0m\" 200 -\n127.0.0.1 - - [14/Oct/2021 14:04:19] \"\u001b[37mPOST /_dash-update-component HTTP/1.1\u001b[0m\" 200 -\n127.0.0.1 - - [14/Oct/2021 14:04:20] \"\u001b[37mPOST /_dash-update-component HTTP/1.1\u001b[0m\" 200 -\n"
                }
            ],
            "source": "# Import required libraries\nimport pandas as pd\nimport dash\nimport dash_html_components as html\nimport dash_core_components as dcc\nfrom dash.dependencies import Input, Output\nimport plotly.express as px\n\n# Read the airline data into pandas dataframe\nspacex_df = pd.read_csv(\"spacex_launch_dash.csv\")\nmax_payload = spacex_df['Payload Mass (kg)'].max()\nmin_payload = spacex_df['Payload Mass (kg)'].min()\n\n# Create a dash application\napp = dash.Dash(__name__)\n\n# Create an app layout\napp.layout = html.Div(children=[html.H1('SpaceX Launch Records Dashboard',\n                                        style={'textAlign': 'center', 'color': '#503D36',\n                                               'font-size': 40}),\n                                # TASK 1: Add a dropdown list to enable Launch Site selection\n                                # The default select value is for ALL sites\n                                dcc.Dropdown(id='site-dropdown',options=[\n                                            {'label': 'All Sites', 'value': 'ALL'},\n                                            {'label': 'CCAFS LC-40', 'value': 'CCAFS LC-40'},\n                                            {'label': 'CCAFS SLC-40', 'value': 'CCAFS SLC-40'},\n                                            {'label': 'KSC LC-39A', 'value': 'KSC LC-39A'},\n                                            {'label': 'VAFB SLC-4E', 'value': 'VAFB SLC-4E'}\n                                            ],\n                                            value='ALL',\n                                            placeholder=\"Select a Launch Site here\",\n                                            searchable=True),\n                                html.Br(),\n                                # TASK 2: Add a pie chart to show the total successful launches count for all sites\n                                # If a specific launch site was selected, show the Success vs. Failed counts for the site\n                                html.Div(dcc.Graph(id='success-pie-chart')),\n                                html.Br(),\n\n                                html.P(\"Payload range (Kg):\"),\n                                # TASK 3: Add a slider to select payload range\n                                dcc.RangeSlider(id='payload-slider',min=0, max=10000, step=1000,\n#                                                 marks={0: '0',\n#                                                        100: '100'},\n                                                value=[min_payload, max_payload]),\n\n                                # TASK 4: Add a scatter chart to show the correlation between payload and launch success\n                                html.Div(dcc.Graph(id='success-payload-scatter-chart')),\n                                ])\n\n# TASK 2:\n# # Add a callback function for `site-dropdown` as input, `success-pie-chart` as output\n# Function decorator to specify function input and output\n@app.callback(Output(component_id='success-pie-chart', component_property='figure'),\n              Input(component_id='site-dropdown', component_property='value'))\ndef get_pie_chart(entered_site):\n    #filtered_df = spacex_df\n    \n    filtered_df = spacex_df[spacex_df['Launch Site']==entered_site]\n    #print (filtered_df)\n    #line_data = filtered_df.groupby('class').count().reset_index()\n    line_data = filtered_df['class'].value_counts()\n    #print (line_data)\n    if entered_site == 'ALL':\n        fig = px.pie(spacex_df, values='class', \n        names='Launch Site', \n        title='For all sites')\n        return fig\n    else:\n        # return the outcomes piechart for a selected site\n        fig = px.pie(line_data, values='class', \n        names='class', \n        title='Total success launches for {} site'.format(entered_site) )\n        return fig\n# TASK 4:\n# Add a callback function for `site-dropdown` and `payload-slider` as inputs, `success-payload-scatter-chart` as output\n@app.callback(Output(component_id='success-payload-scatter-chart', component_property='figure'),\n              [Input(component_id='site-dropdown', component_property='value'), Input(component_id=\"payload-slider\", component_property=\"value\")])\n\ndef get_scatter_chart(entered_site, payload_value):\n    #filtered_df = spacex_df\n    #print (entered_site, payload_value)\n    filtered_df = spacex_df[spacex_df['Launch Site']==entered_site]\n    #print (filtered_df)\n    #line_data = filtered_df.groupby('class').count().reset_index()\n    #line_data = filtered_df['class'].value_counts()\n    #print (line_data)\n    if entered_site == 'ALL':\n        range_slider_format = spacex_df[spacex_df['Payload Mass (kg)'].between(payload_value[0], payload_value[1])]\n        fig = px.scatter(range_slider_format, x=\"Payload Mass (kg)\", y=\"class\", color=\"Booster Version Category\")\n        return fig\n    else:\n        range_slider_format = filtered_df[filtered_df['Payload Mass (kg)'].between(payload_value[0], payload_value[1])]\n        fig = px.scatter(range_slider_format, x=\"Payload Mass (kg)\", y=\"class\", color=\"Booster Version Category\")\n        return fig\n# Run the app\nif __name__ == '__main__':\n    app.run_server()\n#app.run_server(debug = True, use_reloader=False)\n"
        },
        {
            "cell_type": "code",
            "execution_count": null,
            "id": "ee3e88b2",
            "metadata": {},
            "outputs": [],
            "source": "#%tb\n"
        },
        {
            "cell_type": "code",
            "execution_count": null,
            "id": "fbcf0a58",
            "metadata": {},
            "outputs": [],
            "source": ""
        }
    ],
    "metadata": {
        "kernelspec": {
            "display_name": "Python 3.8",
            "language": "python",
            "name": "python3"
        },
        "language_info": {
            "codemirror_mode": {
                "name": "ipython",
                "version": 3
            },
            "file_extension": ".py",
            "mimetype": "text/x-python",
            "name": "python",
            "nbconvert_exporter": "python",
            "pygments_lexer": "ipython3",
            "version": "3.8.11"
        }
    },
    "nbformat": 4,
    "nbformat_minor": 5
}